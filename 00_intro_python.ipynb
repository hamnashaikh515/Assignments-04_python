{
  "nbformat": 4,
  "nbformat_minor": 0,
  "metadata": {
    "colab": {
      "provenance": [],
      "authorship_tag": "ABX9TyM93USQSiQbupXOvauS+7Pt",
      "include_colab_link": true
    },
    "kernelspec": {
      "name": "python3",
      "display_name": "Python 3"
    },
    "language_info": {
      "name": "python"
    }
  },
  "cells": [
    {
      "cell_type": "markdown",
      "metadata": {
        "id": "view-in-github",
        "colab_type": "text"
      },
      "source": [
        "<a href=\"https://colab.research.google.com/github/hamnashaikh515/Assignments-04_python/blob/main/00_intro_python.ipynb\" target=\"_parent\"><img src=\"https://colab.research.google.com/assets/colab-badge.svg\" alt=\"Open In Colab\"/></a>"
      ]
    },
    {
      "cell_type": "code",
      "execution_count": null,
      "metadata": {
        "colab": {
          "base_uri": "https://localhost:8080/"
        },
        "id": "VIwsTbY5T6Is",
        "outputId": "623a3b6e-47be-4419-ec3e-0546fc09f0ef"
      },
      "outputs": [
        {
          "output_type": "stream",
          "name": "stdout",
          "text": [
            "01_add_two_numbers\n",
            "This program adds two numbers and shows the result\n",
            "Enter your first number: 7\n",
            "Enter your second number: 9\n",
            "The total sum of 7 and 9 is 16\n"
          ]
        }
      ],
      "source": [
        "print(\"01_add_two_numbers\")\n",
        "\n",
        "def add():\n",
        "  print(\"This program adds two numbers and shows the result\")\n",
        "  first_number = int(input(\"Enter your first number: \"))\n",
        "  second_number = int(input(\"Enter your second number: \"))\n",
        "  total = int(first_number + second_number)\n",
        "  print(f'The total sum of {first_number} and {second_number} is {total}')\n",
        "\n",
        "if __name__ == \"__main__\":\n",
        "  add()"
      ]
    },
    {
      "cell_type": "code",
      "source": [
        "print(\"02_agreement_bot\")\n",
        "\n",
        "def bot():\n",
        "  animal = str(input(\"What's your favourite animal? \"))\n",
        "  print(f'My favourite animal is also {animal}!')\n",
        "\n",
        "if __name__ == \"__main__\":\n",
        "  bot()"
      ],
      "metadata": {
        "colab": {
          "base_uri": "https://localhost:8080/"
        },
        "id": "yiJAz2EEljbB",
        "outputId": "9617a237-a389-4721-e101-bddb1927be9e"
      },
      "execution_count": 8,
      "outputs": [
        {
          "output_type": "stream",
          "name": "stdout",
          "text": [
            "02_agreement_bot\n",
            "What's your favourite animal? cat\n",
            "My favourite animal is also cat!\n"
          ]
        }
      ]
    },
    {
      "cell_type": "code",
      "source": [
        "print(\"03_fahrenheit_to_celsius\")\n",
        "\n",
        "def temp():\n",
        "  print(\"This program converts fahrenheit to celsius\")\n",
        "  fahrenheit_degree = float(input(\"Enter temperature in fahrenheit: \"))\n",
        "  celsius_degree = (fahrenheit_degree - 32) * 5.0/9.0\n",
        "  print(f'Temperature {fahrenheit_degree} F = {celsius_degree}C')\n",
        "\n",
        "if __name__ == \"__main__\":\n",
        "  temp()"
      ],
      "metadata": {
        "colab": {
          "base_uri": "https://localhost:8080/"
        },
        "id": "zh4A7v6OoTtW",
        "outputId": "ae68fc98-2519-4212-a3e8-762ed9d89ddf"
      },
      "execution_count": null,
      "outputs": [
        {
          "output_type": "stream",
          "name": "stdout",
          "text": [
            "03_fahrenheit_to_celsius\n",
            "This program converts fahrenheit to celsius\n",
            "Enter temperature in fahrenheit: 60\n",
            "Temperature 60.0 F = 15.555555555555555C\n"
          ]
        }
      ]
    },
    {
      "cell_type": "code",
      "source": [
        "print(\"04_how_old_are_they\")\n",
        "\n",
        "def add_ages():\n",
        "  anton:int = 21\n",
        "  beth:int = anton + 6\n",
        "  chen:int = beth + 20\n",
        "  drew:int = chen + anton\n",
        "  ethan:int = chen\n",
        "\n",
        "  print(\"Anton is \" + str(anton))\n",
        "  print(\"Beth is \" + str(beth))\n",
        "  print(\"Chen is \" + str(chen))\n",
        "  print(\"Drew is \" + str(drew))\n",
        "  print(\"Ethan is \" + str(ethan))\n",
        "\n",
        "if __name__ == \"__main__\":\n",
        "    add_ages()"
      ],
      "metadata": {
        "colab": {
          "base_uri": "https://localhost:8080/"
        },
        "id": "iOkGfCTnXclA",
        "outputId": "4ddcf35c-7757-4c0a-f989-a9b69ba72e46"
      },
      "execution_count": 9,
      "outputs": [
        {
          "output_type": "stream",
          "name": "stdout",
          "text": [
            "04_how_old_are_they\n",
            "Anton is 21\n",
            "Beth is 27\n",
            "Chen is 47\n",
            "Drew is 68\n",
            "Ethan is 47\n"
          ]
        }
      ]
    },
    {
      "cell_type": "code",
      "source": [
        "print(\"05_triangle_perimeter\")\n",
        "\n",
        "def triangle():\n",
        "  print(\"This program calculates the perimeter of a triangle..\")\n",
        "  side1:float = float(input(\"Enter the length of side 1:\"))\n",
        "  side2:float = float(input(\"Enter the length of side 2:\"))\n",
        "  side3:float = float(input(\"Enter the length of side 3:\"))\n",
        "  total:float = float(side1 + side2 + side3)\n",
        "  print(f'The perimeter of the Triangle is {total}')\n",
        "\n",
        "if __name__ == \"__main__\":\n",
        "  triangle()"
      ],
      "metadata": {
        "colab": {
          "base_uri": "https://localhost:8080/"
        },
        "id": "pwHhrHCacirw",
        "outputId": "10f61ae2-d202-412e-c55b-f455b00c49b4"
      },
      "execution_count": 11,
      "outputs": [
        {
          "output_type": "stream",
          "name": "stdout",
          "text": [
            "05_triangle_perimeter\n",
            "This program calculates the perimeter of a triangle..\n",
            "Enter the length of side 1:3\n",
            "Enter the length of side 2:4\n",
            "Enter the length of side 3:5.5\n",
            "The perimeter of the Triangle is 12.5\n"
          ]
        }
      ]
    },
    {
      "cell_type": "code",
      "source": [
        "print(\"06_square_number\")\n",
        "\n",
        "def square():\n",
        "  print(\"This program calculates the square of a given number..\")\n",
        "  num1:float = float(input(\"Enter any number, and I will calculate its square for you..\"))\n",
        "  print(str(num1) + \" squared is \" + str(num1 ** 2))\n",
        "\n",
        "if __name__ == \"__main__\":\n",
        "  square()"
      ],
      "metadata": {
        "colab": {
          "base_uri": "https://localhost:8080/"
        },
        "id": "Wnh8s9-bh6gO",
        "outputId": "c949739f-35c1-4f2b-ec7d-e7979c704b30"
      },
      "execution_count": 13,
      "outputs": [
        {
          "output_type": "stream",
          "name": "stdout",
          "text": [
            "06_square_number\n",
            "This program calculates the square of a given number..\n",
            "Enter any number, and I will calculate its square for you..4.9\n",
            "4.9 squared is 24.010000000000005\n"
          ]
        }
      ]
    }
  ]
}