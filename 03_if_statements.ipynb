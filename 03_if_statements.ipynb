{
  "nbformat": 4,
  "nbformat_minor": 0,
  "metadata": {
    "colab": {
      "provenance": [],
      "authorship_tag": "ABX9TyP9NRYSS7ZSlX8yP/r4ituS",
      "include_colab_link": true
    },
    "kernelspec": {
      "name": "python3",
      "display_name": "Python 3"
    },
    "language_info": {
      "name": "python"
    }
  },
  "cells": [
    {
      "cell_type": "markdown",
      "metadata": {
        "id": "view-in-github",
        "colab_type": "text"
      },
      "source": [
        "<a href=\"https://colab.research.google.com/github/hamnashaikh515/Assignments-04_python/blob/main/03_if_statements.ipynb\" target=\"_parent\"><img src=\"https://colab.research.google.com/assets/colab-badge.svg\" alt=\"Open In Colab\"/></a>"
      ]
    },
    {
      "cell_type": "code",
      "execution_count": null,
      "metadata": {
        "colab": {
          "base_uri": "https://localhost:8080/"
        },
        "id": "ZgzMAseX_Qjv",
        "outputId": "b9192407-3e45-43fe-fe2d-2376df0c9794"
      },
      "outputs": [
        {
          "output_type": "stream",
          "name": "stdout",
          "text": [
            "01_print_events\n",
            "The first 20 even numbers are:  0\n",
            "The first 20 even numbers are:  2\n",
            "The first 20 even numbers are:  4\n",
            "The first 20 even numbers are:  6\n",
            "The first 20 even numbers are:  8\n",
            "The first 20 even numbers are:  10\n",
            "The first 20 even numbers are:  12\n",
            "The first 20 even numbers are:  14\n",
            "The first 20 even numbers are:  16\n",
            "The first 20 even numbers are:  18\n",
            "The first 20 even numbers are:  20\n",
            "The first 20 even numbers are:  22\n",
            "The first 20 even numbers are:  24\n",
            "The first 20 even numbers are:  26\n",
            "The first 20 even numbers are:  28\n",
            "The first 20 even numbers are:  30\n",
            "The first 20 even numbers are:  32\n",
            "The first 20 even numbers are:  34\n",
            "The first 20 even numbers are:  36\n",
            "The first 20 even numbers are:  38\n",
            "The first 20 even numbers are:  40\n",
            "The first 20 even numbers are:  42\n",
            "The first 20 even numbers are:  44\n",
            "The first 20 even numbers are:  46\n",
            "The first 20 even numbers are:  48\n",
            "The first 20 even numbers are:  50\n",
            "The first 20 even numbers are:  52\n",
            "The first 20 even numbers are:  54\n",
            "The first 20 even numbers are:  56\n",
            "The first 20 even numbers are:  58\n",
            "The first 20 even numbers are:  60\n",
            "The first 20 even numbers are:  62\n",
            "The first 20 even numbers are:  64\n",
            "The first 20 even numbers are:  66\n",
            "The first 20 even numbers are:  68\n",
            "The first 20 even numbers are:  70\n",
            "The first 20 even numbers are:  72\n",
            "The first 20 even numbers are:  74\n",
            "The first 20 even numbers are:  76\n",
            "The first 20 even numbers are:  78\n"
          ]
        }
      ],
      "source": [
        "print(\"01_print_events\")\n",
        "\n",
        "def even():\n",
        "  for i in range(40):\n",
        "    even:int = i * 2\n",
        "    print(\"The first 20 even numbers are: \",even)\n",
        "\n",
        "if __name__ == \"__main__\":\n",
        "  even()"
      ]
    },
    {
      "cell_type": "code",
      "source": [
        "print(\"02_international_voting_age\")\n",
        "\n",
        "Peturksbouipo:int = 16\n",
        "Stanlau:int = 25\n",
        "Mayengua:int = 48\n",
        "\n",
        "def main():\n",
        "  voting_age:int = int(input(\"How old are you? \"))\n",
        "  if voting_age >= Peturksbouipo:\n",
        "    print(f\"Your age is: {voting_age}, ✅ You can vote in Peturksbouipo where the voting age is 16.. \\n ❌ You cannot vote in Stanlau where the voting age is 25.\\n ❌ You cannot vote in Mayengua where the voting age is 48.\")\n",
        "  elif voting_age >= Stanlau:\n",
        "    print(f\"Your age is: {voting_age}, ✅ You can vote in Stanlau where the voting age is 25..\\n ❌ You cannot vote in Peturksbouipo where the voting age is 16.\\n ❌ You cannot vote in Mayengua where the voting age is 48.\")\n",
        "  elif voting_age >= Mayengua:\n",
        "    print(f\"Your age is: {voting_age}, ✅ You can vote in Mayengua where the voting age is 16..\\n ❌ You cannot vote in Peturksbouipo where the voting age is 16.\\n ❌ You cannot vote in Stanlau where the voting age is 25.\")\n",
        "  else:\n",
        "    print(\"❗ You are not eligible to vote..\")\n",
        "\n",
        "if __name__ == \"__main__\":\n",
        "  main()"
      ],
      "metadata": {
        "colab": {
          "base_uri": "https://localhost:8080/"
        },
        "id": "RaFagwnmCMfv",
        "outputId": "a7a35e7b-8128-4021-ce3a-39d9be0164a3"
      },
      "execution_count": null,
      "outputs": [
        {
          "output_type": "stream",
          "name": "stdout",
          "text": [
            "02_international_voting_age\n",
            "How old are you? 66\n",
            "Your age is: 66, ✅ You can vote in Peturksbouipo where the voting age is 16.. \n",
            " ❌ You cannot vote in Stanlau where the voting age is 25.\n",
            " ❌ You cannot vote in Mayengua where the voting age is 48.\n"
          ]
        }
      ]
    },
    {
      "cell_type": "code",
      "source": [
        "print(\"03_leap_year\")\n",
        "\n",
        "def leap_year():\n",
        "  year:int = int(input(\"Enter a year: \"))\n",
        "\n",
        "  if year % 4 == 0:\n",
        "    if year % 100 == 0:\n",
        "      if year % 400 == 0:\n",
        "        print(f\"{year}; That's a leap year!\")\n",
        "      else:\n",
        "        print(f\"{year}; That's not a leap year.\")\n",
        "    else:\n",
        "      print(f\"{year}; That's not a leap year.\")\n",
        "  else:\n",
        "    print(f\"{year}; That's not a leap year.\")\n",
        "\n",
        "if __name__ == \"__main__\":\n",
        "  leap_year()"
      ],
      "metadata": {
        "colab": {
          "base_uri": "https://localhost:8080/"
        },
        "id": "aqhROyPAJclp",
        "outputId": "71818967-6c57-426a-ccff-04314262ba48"
      },
      "execution_count": null,
      "outputs": [
        {
          "output_type": "stream",
          "name": "stdout",
          "text": [
            "03_leap_year\n",
            "Enter a year: 2000\n",
            "2000; That's a leap year!\n"
          ]
        }
      ]
    },
    {
      "cell_type": "code",
      "source": [
        "print(\"04_tall_enough_to_ride\")\n",
        "\n",
        "min_height:int = 50\n",
        "def main():\n",
        "\n",
        "  while True:\n",
        "      user_height = input(\"How old are you? \")\n",
        "\n",
        "      if user_height.strip() == \"\":\n",
        "        print(\"No input given.. Exciting...\")\n",
        "        break\n",
        "\n",
        "      user_input = int(user_height)\n",
        "      if user_input >= min_height:\n",
        "        print(\"You're tall enough to ride!\")\n",
        "      else:\n",
        "        print(\"You're not tall enough to ride, but maybe next year!\")\n",
        "\n",
        "if __name__ == \"__main__\":\n",
        "  main()"
      ],
      "metadata": {
        "id": "57vuv_5HO9Rj",
        "colab": {
          "base_uri": "https://localhost:8080/"
        },
        "outputId": "5cb50810-4612-4bb1-f95a-8d1ba6bf9ba2"
      },
      "execution_count": 5,
      "outputs": [
        {
          "output_type": "stream",
          "name": "stdout",
          "text": [
            "04_tall_enough_to_ride\n",
            "How old are you? 20\n",
            "You're not tall enough to ride, but maybe next year!\n",
            "How old are you? \n",
            "No input given.. Exciting...\n"
          ]
        }
      ]
    },
    {
      "cell_type": "code",
      "source": [
        "import random\n",
        "print(\"05_random_numbers\")\n",
        "\n",
        "def main():\n",
        "  for i in range(10):\n",
        "    num:list[int] = random.randint(1,100)\n",
        "    print(num)\n",
        "\n",
        "if __name__ == \"__main__\":\n",
        "  main()"
      ],
      "metadata": {
        "colab": {
          "base_uri": "https://localhost:8080/"
        },
        "id": "OlIfLjtebtOx",
        "outputId": "193baa71-2725-430d-d945-2eed373c6782"
      },
      "execution_count": 8,
      "outputs": [
        {
          "output_type": "stream",
          "name": "stdout",
          "text": [
            "05_random_numbers\n",
            "51\n",
            "44\n",
            "5\n",
            "36\n",
            "13\n",
            "49\n",
            "74\n",
            "38\n",
            "81\n",
            "19\n"
          ]
        }
      ]
    }
  ]
}