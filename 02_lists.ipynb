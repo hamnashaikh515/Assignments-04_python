{
  "nbformat": 4,
  "nbformat_minor": 0,
  "metadata": {
    "colab": {
      "provenance": [],
      "authorship_tag": "ABX9TyNGrc4w4nhPmSfckOrYFrlf",
      "include_colab_link": true
    },
    "kernelspec": {
      "name": "python3",
      "display_name": "Python 3"
    },
    "language_info": {
      "name": "python"
    }
  },
  "cells": [
    {
      "cell_type": "markdown",
      "metadata": {
        "id": "view-in-github",
        "colab_type": "text"
      },
      "source": [
        "<a href=\"https://colab.research.google.com/github/hamnashaikh515/Assignments-04_python/blob/main/02_lists.ipynb\" target=\"_parent\"><img src=\"https://colab.research.google.com/assets/colab-badge.svg\" alt=\"Open In Colab\"/></a>"
      ]
    },
    {
      "cell_type": "code",
      "execution_count": null,
      "metadata": {
        "colab": {
          "base_uri": "https://localhost:8080/"
        },
        "id": "KLwq91I0kxa3",
        "outputId": "7c8568d1-77c1-4b38-af66-3bdb2973ac24"
      },
      "outputs": [
        {
          "output_type": "stream",
          "name": "stdout",
          "text": [
            "01_add_many_number\n",
            "15\n"
          ]
        }
      ],
      "source": [
        "print(\"01_add_many_number\")\n",
        "\n",
        "def add_numbers(numbers)->int:\n",
        "\n",
        "  num:int= 0\n",
        "  for number in numbers:\n",
        "    num += number\n",
        "  return num\n",
        "\n",
        "def main():\n",
        "  numbers:list[int] = [1,2,3,4,5]\n",
        "  sum = add_numbers(numbers)\n",
        "  print(sum)\n",
        "\n",
        "if __name__ == \"__main__\":\n",
        "  main()"
      ]
    },
    {
      "cell_type": "code",
      "source": [
        "print(\"02_double_list\")\n",
        "\n",
        "def main():\n",
        "  numbers:list[int] = [1,2,3,4,5]\n",
        "  for i in range(len(numbers)):\n",
        "    index = numbers[i]\n",
        "    numbers[i] = index * 2\n",
        "  print(numbers)\n",
        "\n",
        "if __name__ == \"__main__\":\n",
        "  main()"
      ],
      "metadata": {
        "colab": {
          "base_uri": "https://localhost:8080/"
        },
        "id": "-Mg9690BZl5T",
        "outputId": "e76f6226-11ef-454a-a1db-3e280788ef00"
      },
      "execution_count": 1,
      "outputs": [
        {
          "output_type": "stream",
          "name": "stdout",
          "text": [
            "02_double_list\n",
            "[2, 4, 6, 8, 10]\n"
          ]
        }
      ]
    },
    {
      "cell_type": "code",
      "source": [
        "print(\"04_flowing_with_data_structures\")\n",
        "\n",
        "def add_three_copies(list,data):\n",
        "  for i in range(3):\n",
        "    list.append(data)\n",
        "\n",
        "def main():\n",
        "  message = input(\"Enter a message to copy: \")\n",
        "  list = []\n",
        "  print(\"Before list:\", list)\n",
        "  add_three_copies(list,message)\n",
        "  print(\"After list:\", list)\n",
        "\n",
        "if __name__ == \"__main__\":\n",
        "  main()"
      ],
      "metadata": {
        "colab": {
          "base_uri": "https://localhost:8080/"
        },
        "id": "psYkjoAacTSS",
        "outputId": "89c7f1dc-07c5-44ff-c2fe-f27aa8d34e43"
      },
      "execution_count": 10,
      "outputs": [
        {
          "output_type": "stream",
          "name": "stdout",
          "text": [
            "04_flowing_with_data_structures\n",
            "Enter a message to copy: Hello Everyone!\n",
            "Before list: []\n",
            "After list: ['Hello Everyone!', 'Hello Everyone!', 'Hello Everyone!']\n"
          ]
        }
      ]
    },
    {
      "cell_type": "code",
      "source": [
        "from ast import While\n",
        "print(\"05_get_first_element\")\n",
        "\n",
        "def get_first_element(list):\n",
        "  print(list[0])\n",
        "\n",
        "def get_list():\n",
        "  list = []\n",
        "  elem:str = input(\"Enter an element to add to the list: \")\n",
        "  while elem != \"\":\n",
        "    list.append(elem)\n",
        "    elem = input(\"Enter an element to add to the list: \")\n",
        "  return list\n",
        "\n",
        "def main():\n",
        "  list = get_list()\n",
        "  get_first_element(list)\n",
        "\n",
        "if __name__ == \"__main__\":\n",
        "  main()"
      ],
      "metadata": {
        "colab": {
          "base_uri": "https://localhost:8080/"
        },
        "id": "YyFCAwpcfVE-",
        "outputId": "c4f1890a-0748-4c67-d0ad-1ec0cdb4ed7d"
      },
      "execution_count": 9,
      "outputs": [
        {
          "output_type": "stream",
          "name": "stdout",
          "text": [
            "05_get_first_element\n",
            "Enter an element to add to the list: H\n",
            "Enter an element to add to the list: A\n",
            "Enter an element to add to the list: M\n",
            "Enter an element to add to the list: N\n",
            "Enter an element to add to the list: A\n",
            "Enter an element to add to the list: \n",
            "H\n"
          ]
        }
      ]
    },
    {
      "cell_type": "code",
      "source": [
        "print(\"06_get_last_element\")\n",
        "\n",
        "def get_last_element(list):\n",
        "  print(list[-1])\n",
        "\n",
        "def get_list():\n",
        "  list = []\n",
        "  elem:str = input(\"Enter an element to add to the list: \")\n",
        "  while elem != \"\":\n",
        "    list.append(elem)\n",
        "    elem = input(\"Enter an element to add to the list: \")\n",
        "  return list\n",
        "\n",
        "def main():\n",
        "  list = get_list()\n",
        "  get_last_element(list)\n",
        "\n",
        "if __name__ == \"__main__\":\n",
        "  main()"
      ],
      "metadata": {
        "colab": {
          "base_uri": "https://localhost:8080/"
        },
        "id": "VxB_ZFUGhsgg",
        "outputId": "09b80abc-8f35-435c-f828-43f9d04a3775"
      },
      "execution_count": 8,
      "outputs": [
        {
          "output_type": "stream",
          "name": "stdout",
          "text": [
            "06_get_last_element\n",
            "Enter an element to add to the list: H\n",
            "Enter an element to add to the list: A\n",
            "Enter an element to add to the list: M\n",
            "Enter an element to add to the list: N\n",
            "Enter an element to add to the list: A\n",
            "Enter an element to add to the list: \n",
            "A\n"
          ]
        }
      ]
    },
    {
      "cell_type": "code",
      "source": [
        "print(\"07_get_list\")\n",
        "\n",
        "def main():\n",
        "  list = []\n",
        "  val = input(\"Enter a value to add to the list.. \")\n",
        "  while val:\n",
        "    list.append(val)\n",
        "    val = input(\"Enter a value to add to the list.. \")\n",
        "  print(\"Here is the list: \",list)\n",
        "\n",
        "if __name__ == \"__main__\":\n",
        "  main()\n"
      ],
      "metadata": {
        "colab": {
          "base_uri": "https://localhost:8080/"
        },
        "id": "11EtlKyajc5p",
        "outputId": "2870739a-b171-487d-920d-77c36b21f91e"
      },
      "execution_count": 6,
      "outputs": [
        {
          "output_type": "stream",
          "name": "stdout",
          "text": [
            "07_get_list\n",
            "Enter a value to add to the list.. Hamna\n",
            "Enter a value to add to the list.. HIra\n",
            "Enter a value to add to the list.. Huda\n",
            "Enter a value to add to the list.. Moosa\n",
            "Enter a value to add to the list.. Eesa\n",
            "Enter a value to add to the list.. Abbu\n",
            "Enter a value to add to the list.. Ammi\n",
            "Enter a value to add to the list.. \n",
            "Here is the list:  ['Hamna', 'HIra', 'Huda', 'Moosa', 'Eesa', 'Abbu', 'Ammi']\n"
          ]
        }
      ]
    },
    {
      "cell_type": "code",
      "source": [
        "print(\"08_shorten\")\n",
        "\n",
        "MAX_LENGTH:int = 3\n",
        "def shorten(list):\n",
        "  while len(list) >= MAX_LENGTH:\n",
        "    last_element = list.pop()\n",
        "    print(last_element)\n",
        "\n",
        "def get_list():\n",
        "  list =  []\n",
        "  element = input(\"Enter an element to add to the list: \")\n",
        "  while element != \"\":\n",
        "    list.append(element)\n",
        "    element = input(\"Enter an element to add to the list: \")\n",
        "  return list\n",
        "\n",
        "def main():\n",
        "  list = get_list()\n",
        "  shorten(list)\n",
        "\n",
        "if __name__ == \"__main__\":\n",
        "  main()\n"
      ],
      "metadata": {
        "colab": {
          "base_uri": "https://localhost:8080/"
        },
        "id": "NVzfIOXylCJd",
        "outputId": "7f25f8e1-aa35-4ffb-ccb2-4dce333a0d88"
      },
      "execution_count": 7,
      "outputs": [
        {
          "output_type": "stream",
          "name": "stdout",
          "text": [
            "08_shorten\n",
            "Enter an element to add to the list: H\n",
            "Enter an element to add to the list: A\n",
            "Enter an element to add to the list: M\n",
            "Enter an element to add to the list: N\n",
            "Enter an element to add to the list: A\n",
            "Enter an element to add to the list: \n",
            "A\n",
            "N\n",
            "M\n"
          ]
        }
      ]
    }
  ]
}