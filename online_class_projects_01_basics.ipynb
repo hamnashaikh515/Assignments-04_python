{
  "nbformat": 4,
  "nbformat_minor": 0,
  "metadata": {
    "colab": {
      "provenance": [],
      "authorship_tag": "ABX9TyPmgL1wva1SV3sPdi1nXJXd",
      "include_colab_link": true
    },
    "kernelspec": {
      "name": "python3",
      "display_name": "Python 3"
    },
    "language_info": {
      "name": "python"
    }
  },
  "cells": [
    {
      "cell_type": "markdown",
      "metadata": {
        "id": "view-in-github",
        "colab_type": "text"
      },
      "source": [
        "<a href=\"https://colab.research.google.com/github/hamnashaikh515/Assignments-04_python/blob/main/online_class_projects_01_basics.ipynb\" target=\"_parent\"><img src=\"https://colab.research.google.com/assets/colab-badge.svg\" alt=\"Open In Colab\"/></a>"
      ]
    },
    {
      "cell_type": "code",
      "execution_count": 2,
      "metadata": {
        "colab": {
          "base_uri": "https://localhost:8080/"
        },
        "id": "VHNddeUBdGlJ",
        "outputId": "010ac486-bfcd-4bb9-b725-b79392c30035"
      },
      "outputs": [
        {
          "output_type": "stream",
          "name": "stdout",
          "text": [
            "00_joke_bot\n",
            "What do you want?  story\n",
            "Sorry! I only tell jokes..\n"
          ]
        }
      ],
      "source": [
        "print(\"00_joke_bot\")\n",
        "\n",
        "PROMPT: str =  \"What do you want?  \"\n",
        "\n",
        "JOKE: str = \"Why did the computer go to therapy? \\n Because it had too many bytes from its past! 😅💻🍪\"\n",
        "\n",
        "SORRY: str = \"Sorry! I only tell jokes..\"\n",
        "\n",
        "def main():\n",
        "  user_input = input(PROMPT)\n",
        "  user_input = user_input.strip().lower()\n",
        "\n",
        "  if \"joke\" in user_input:\n",
        "    print(JOKE)\n",
        "  else:\n",
        "    print(SORRY)\n",
        "\n",
        "if __name__ == \"__main__\":\n",
        "  main()"
      ]
    },
    {
      "cell_type": "code",
      "source": [
        "print(\"01_double_it\")\n",
        "\n",
        "def main():\n",
        "  user_value = int(input(\"Enter a number: \"))\n",
        "  while user_value < 100:\n",
        "    user_value = user_value * 2\n",
        "    print(user_value)\n",
        "\n",
        "if __name__ == \"__main__\":\n",
        "  main()"
      ],
      "metadata": {
        "colab": {
          "base_uri": "https://localhost:8080/"
        },
        "id": "edBD5h5P-gXr",
        "outputId": "db5d1451-b238-4ca3-9f23-9d119d11b637"
      },
      "execution_count": 3,
      "outputs": [
        {
          "output_type": "stream",
          "name": "stdout",
          "text": [
            "01_double_it\n",
            "Enter a number: 6\n",
            "12\n",
            "24\n",
            "48\n",
            "96\n",
            "192\n"
          ]
        }
      ]
    },
    {
      "cell_type": "code",
      "source": [
        "print(\"02_liftoff\")\n",
        "\n",
        "def main():\n",
        "  for i in range(10,0,-1):\n",
        "    print(i, end = \" \")\n",
        "  print(\"liftoff!\")\n",
        "\n",
        "if __name__ == \"__main__\":\n",
        "  main()"
      ],
      "metadata": {
        "colab": {
          "base_uri": "https://localhost:8080/"
        },
        "id": "a6Ty71ok_nwa",
        "outputId": "e1ffc466-8ed4-4c71-e90f-a16895975540"
      },
      "execution_count": 4,
      "outputs": [
        {
          "output_type": "stream",
          "name": "stdout",
          "text": [
            "02_liftoff\n",
            "10 9 8 7 6 5 4 3 2 1 liftoff!\n"
          ]
        }
      ]
    },
    {
      "cell_type": "code",
      "source": [
        "import random\n",
        "print(\"03_guess_my_number\")\n",
        "\n",
        "def main():\n",
        "  secret_number = random.randint(1,99)\n",
        "  print(\"I am thinking of a number between 1 & 99!\")\n",
        "\n",
        "  guess = int(input(\"Enter a guess: \"))\n",
        "  while guess != secret_number:\n",
        "\n",
        "    if guess < secret_number:\n",
        "      print(\"Your guess is too low..\")\n",
        "    else:\n",
        "      print(\"Your guess is too high..\")\n",
        "    guess = int(input(\"Enter a guess: \"))\n",
        "\n",
        "  print(f\"Congrats! The number was {secret_number}..\")\n",
        "\n",
        "if __name__ == \"__main__\":\n",
        "  main()"
      ],
      "metadata": {
        "colab": {
          "base_uri": "https://localhost:8080/"
        },
        "id": "AZSI7kYe_4_Z",
        "outputId": "150dcd27-f9e1-4221-e7a4-712e86c64593"
      },
      "execution_count": 6,
      "outputs": [
        {
          "output_type": "stream",
          "name": "stdout",
          "text": [
            "03_guess_my_number\n",
            "I am thinking of a number between 1 & 99!\n",
            "Enter a guess: 46\n",
            "Your guess is too low..\n",
            "Enter a guess: 49\n",
            "Your guess is too low..\n",
            "Enter a guess: 59\n",
            "Your guess is too low..\n",
            "Enter a guess: 79\n",
            "Your guess is too high..\n",
            "Enter a guess: 74\n",
            "Your guess is too low..\n",
            "Enter a guess: 76\n",
            "Congrats! The number was 76..\n"
          ]
        }
      ]
    },
    {
      "cell_type": "code",
      "source": [
        "import random\n",
        "\n",
        "print(\"04_random_numbers\")\n",
        "\n",
        "def main():\n",
        "  for i in range(10):\n",
        "    num:list[int] = random.randint(1,100)\n",
        "    print(num)\n",
        "\n",
        "if __name__ == \"__main__\":\n",
        "  main()"
      ],
      "metadata": {
        "colab": {
          "base_uri": "https://localhost:8080/"
        },
        "id": "zaE1_C0AAbix",
        "outputId": "625af6f0-f812-4b0e-cbd3-4b3d9ec3bd38"
      },
      "execution_count": 7,
      "outputs": [
        {
          "output_type": "stream",
          "name": "stdout",
          "text": [
            "04_random_numbers\n",
            "20\n",
            "76\n",
            "30\n",
            "76\n",
            "22\n",
            "55\n",
            "9\n",
            "37\n",
            "43\n",
            "49\n"
          ]
        }
      ]
    }
  ]
}