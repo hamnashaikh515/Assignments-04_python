{
  "nbformat": 4,
  "nbformat_minor": 0,
  "metadata": {
    "colab": {
      "provenance": [],
      "authorship_tag": "ABX9TyMR+Lryb85KRDYm4Xx6Q1yE",
      "include_colab_link": true
    },
    "kernelspec": {
      "name": "python3",
      "display_name": "Python 3"
    },
    "language_info": {
      "name": "python"
    }
  },
  "cells": [
    {
      "cell_type": "markdown",
      "metadata": {
        "id": "view-in-github",
        "colab_type": "text"
      },
      "source": [
        "<a href=\"https://colab.research.google.com/github/hamnashaikh515/Assignments-04_python/blob/main/04_dictionaries.ipynb\" target=\"_parent\"><img src=\"https://colab.research.google.com/assets/colab-badge.svg\" alt=\"Open In Colab\"/></a>"
      ]
    },
    {
      "cell_type": "code",
      "execution_count": null,
      "metadata": {
        "id": "uvfQbgEjeBEi",
        "colab": {
          "base_uri": "https://localhost:8080/"
        },
        "outputId": "2e2abae2-7690-408d-959c-608a13babd35"
      },
      "outputs": [
        {
          "output_type": "stream",
          "name": "stdout",
          "text": [
            "00_count_nums\n",
            "Enter a number or type 'Exit' to quit: 9\n",
            "{9: 1}\n",
            "Enter a number or type 'Exit' to quit: 8\n",
            "{9: 1, 8: 1}\n",
            "Enter a number or type 'Exit' to quit: 6\n",
            "{9: 1, 8: 1, 6: 1}\n",
            "Enter a number or type 'Exit' to quit: 0\n",
            "{9: 1, 8: 1, 6: 1, 0: 1}\n",
            "Enter a number or type 'Exit' to quit: 3\n",
            "{9: 1, 8: 1, 6: 1, 0: 1, 3: 1}\n",
            "Enter a number or type 'Exit' to quit: 23\n",
            "{9: 1, 8: 1, 6: 1, 0: 1, 3: 1, 23: 1}\n",
            "Enter a number or type 'Exit' to quit: 0\n",
            "{9: 1, 8: 1, 6: 1, 0: 2, 3: 1, 23: 1}\n",
            "Enter a number or type 'Exit' to quit: exit\n",
            "\n",
            " Number Counts: \n",
            "9 appears 1 times..\n",
            "8 appears 1 times..\n",
            "6 appears 1 times..\n",
            "0 appears 2 times..\n",
            "3 appears 1 times..\n",
            "23 appears 1 times..\n"
          ]
        }
      ],
      "source": [
        "print(\"00_count_nums\")\n",
        "\n",
        "def numbers_count():\n",
        "    count_dict = {}\n",
        "\n",
        "    while True:\n",
        "        num = input(\"Enter a number or type 'Exit' to quit: \")\n",
        "        if num.title() == 'Exit':\n",
        "            break\n",
        "        if num.isdigit():\n",
        "            num = int(num)\n",
        "            count_dict[num] = count_dict.get(num, 0) + 1\n",
        "            print(count_dict)  # <-- This line is added to show progress\n",
        "        else:\n",
        "            print(\"Invalid input.. Please enter a number or 'Exit'.\")\n",
        "\n",
        "    return count_dict\n",
        "\n",
        "\n",
        "def num_counts(count_dict):\n",
        "  print(\"\\n Number Counts: \")\n",
        "  for key,value in count_dict.items():\n",
        "    print(f\"{key} appears {value} times..\")\n",
        "\n",
        "if __name__ == \"__main__\":\n",
        "  counts = numbers_count()\n",
        "  num_counts(counts)"
      ]
    },
    {
      "cell_type": "code",
      "source": [
        "print(\"01_phonebook\")\n",
        "\n",
        "def add_contact(phonebook):\n",
        "  name = input(\"Enter contact name: \")\n",
        "  number = input(\"Enter contact number: \")\n",
        "\n",
        "  if name in phonebook:\n",
        "    print(f\"{name} already exists in the phonebook..\")\n",
        "  else:\n",
        "    phonebook[name] = number\n",
        "    print(f\"{name} added to the phonebook..\")\n",
        "\n",
        "def search_contact(phonebook):\n",
        "  name = input(\"Enter contact name to search: \")\n",
        "\n",
        "  if name in phonebook:\n",
        "    print(f\"{name}: {phonebook[name]}\")\n",
        "  else:\n",
        "    print(f\"{name} not found in the phonebook..\")\n",
        "\n",
        "def delete_contact(phonebook):\n",
        "  name = input(\"Enter contact name to delete: \")\n",
        "  if name in phonebook:\n",
        "    del phonebook[name]\n",
        "    print(f\"{name} deleted from the phonebook..\")\n",
        "  else:\n",
        "    print(f\"{name} not found in phonebook..\")\n",
        "\n",
        "def display_contact(phonebook):\n",
        "  if phonebook:\n",
        "    print(\"\\n Phonebook Contacts List: \")\n",
        "    for name,number in phonebook.items():\n",
        "      print(f\"{name}: {number}\")\n",
        "  else:\n",
        "      print(\"Phonebook is empty..\")\n",
        "\n",
        "if __name__ == \"__main__\":\n",
        "  phonebook = {}\n",
        "\n",
        "  while True:\n",
        "    print(\"\\n Phonebook Menu: \")\n",
        "    print(\"1. Add contact\")\n",
        "    print(\"2. Search contact\")\n",
        "    print(\"3. Delete contact\")\n",
        "    print(\"4. Display contacts\")\n",
        "    print(\"5. Exit\")\n",
        "\n",
        "    choice = input(\"Enter your choice (1-5): \")\n",
        "\n",
        "    if choice == '1':\n",
        "      add_contact(phonebook)\n",
        "    elif choice == '2':\n",
        "      search_contact(phonebook)\n",
        "    elif choice == '3':\n",
        "      delete_contact(phonebook)\n",
        "    elif choice == '4':\n",
        "      display_contact(phonebook)\n",
        "    elif choice == '5':\n",
        "      print(\"Exiting phonebook.. Goodbye!\")\n",
        "      break\n",
        "    else:\n",
        "      print(\"Invalid choice.. Please enter a number between 1 to 5.. \")"
      ],
      "metadata": {
        "id": "LDUeCiDiDuUA",
        "colab": {
          "base_uri": "https://localhost:8080/"
        },
        "outputId": "adb3c2e8-cc61-4cc8-f143-73174a1b1670"
      },
      "execution_count": 4,
      "outputs": [
        {
          "output_type": "stream",
          "name": "stdout",
          "text": [
            "01_phonebook\n",
            "\n",
            " Phonebook Menu: \n",
            "1. Add contact\n",
            "2. Search contact\n",
            "3. Delete contact\n",
            "4. Display contacts\n",
            "5. Exit\n",
            "Enter your choice (1-5): 1\n",
            "Enter contact name: A.Khaliq\n",
            "Enter contact number: 03344555555\n",
            "A.Khaliq added to the phonebook..\n",
            "\n",
            " Phonebook Menu: \n",
            "1. Add contact\n",
            "2. Search contact\n",
            "3. Delete contact\n",
            "4. Display contacts\n",
            "5. Exit\n",
            "Enter your choice (1-5): 1\n",
            "Enter contact name: Shaista\n",
            "Enter contact number: 03366777777\n",
            "Shaista added to the phonebook..\n",
            "\n",
            " Phonebook Menu: \n",
            "1. Add contact\n",
            "2. Search contact\n",
            "3. Delete contact\n",
            "4. Display contacts\n",
            "5. Exit\n",
            "Enter your choice (1-5): 2\n",
            "Enter contact name to search: A.Khaliq\n",
            "A.Khaliq: 03344555555\n",
            "\n",
            " Phonebook Menu: \n",
            "1. Add contact\n",
            "2. Search contact\n",
            "3. Delete contact\n",
            "4. Display contacts\n",
            "5. Exit\n",
            "Enter your choice (1-5): 3\n",
            "Enter contact name to delete: A.Khaliq\n",
            "A.Khaliq deleted from the phonebook..\n",
            "\n",
            " Phonebook Menu: \n",
            "1. Add contact\n",
            "2. Search contact\n",
            "3. Delete contact\n",
            "4. Display contacts\n",
            "5. Exit\n",
            "Enter your choice (1-5): 4\n",
            "\n",
            " Phonebook Contacts List: \n",
            "Shaista: 03366777777\n",
            "\n",
            " Phonebook Menu: \n",
            "1. Add contact\n",
            "2. Search contact\n",
            "3. Delete contact\n",
            "4. Display contacts\n",
            "5. Exit\n",
            "Enter your choice (1-5): 5\n",
            "Exiting phonebook.. Goodbye!\n"
          ]
        }
      ]
    },
    {
      "cell_type": "code",
      "source": [
        "print(\"02_pop_up_shop\")\n",
        "\n",
        "def calculate_total_cost():\n",
        "  fruits_price = {\n",
        "      \"apple\": 5.0,\n",
        "      \"mango\": 15.0,\n",
        "      \"kiwi\": 8.0,\n",
        "      \"pear\": 12.0,\n",
        "      \"banana\": 6.0,\n",
        "      \"orange\": 10.0\n",
        "  }\n",
        "\n",
        "  total_cost = 0\n",
        "\n",
        "  for fruit,price in fruits_price.items():\n",
        "    while True:\n",
        "      try:\n",
        "        quantity = int(input(f'How many {fruit} do you want: '))\n",
        "        if quantity < 0:\n",
        "          print(\"Invalid Input.. Please Enter a non-negative number..\")\n",
        "          continue\n",
        "        total_cost += price * quantity\n",
        "        break\n",
        "      except ValueError:\n",
        "        print(\"Invalid Input.. Please enter a valid number..\")\n",
        "\n",
        "    print(f\"\\n Your Total cost is: {total_cost:.2f}\")\n",
        "\n",
        "if __name__ == \"__main__\":\n",
        "  calculate_total_cost()"
      ],
      "metadata": {
        "colab": {
          "base_uri": "https://localhost:8080/"
        },
        "id": "t-7bzlKDJqYv",
        "outputId": "47f57c1d-653a-4b72-af08-693843d0d330"
      },
      "execution_count": 6,
      "outputs": [
        {
          "output_type": "stream",
          "name": "stdout",
          "text": [
            "02_pop_up_shop\n",
            "How many apple do you want: 7\n",
            "\n",
            " Your Total cost is: 35.00\n",
            "How many mango do you want: 9\n",
            "\n",
            " Your Total cost is: 170.00\n",
            "How many kiwi do you want: 3\n",
            "\n",
            " Your Total cost is: 194.00\n",
            "How many pear do you want: 7\n",
            "\n",
            " Your Total cost is: 278.00\n",
            "How many banana do you want: 2\n",
            "\n",
            " Your Total cost is: 290.00\n",
            "How many orange do you want: 8\n",
            "\n",
            " Your Total cost is: 370.00\n"
          ]
        }
      ]
    },
    {
      "cell_type": "code",
      "source": [
        "import hashlib\n",
        "print(\"03_powerful_passwords\")\n",
        "\n",
        "def hash_password(password):\n",
        "  return hashlib.sha256(password.encode()).hexdigest()\n",
        "\n",
        "stored_logins = {\n",
        "    \"user@example.com\" : hash_password(\"password123\"),\n",
        "    \"admin@example.com\" : hash_password(\"adminpass\")\n",
        "}\n",
        "\n",
        "def login(email,password):\n",
        "  if email in stored_logins:\n",
        "    return stored_logins[email] == hash_password(password)\n",
        "  return False\n",
        "\n",
        "if __name__ == \"__main__\":\n",
        "  email = input(\"Enter your email: \")\n",
        "  password = input(\"Enter your password: \")\n",
        "\n",
        "\n",
        "  if login(email,password):\n",
        "    print(\"Login successful!\")\n",
        "  else:\n",
        "    print(\"Invalid email or password..\")\n",
        ""
      ],
      "metadata": {
        "colab": {
          "base_uri": "https://localhost:8080/"
        },
        "id": "smtYc8KrOGIs",
        "outputId": "3969a881-bfbc-4825-e35f-7c092fec6723"
      },
      "execution_count": 8,
      "outputs": [
        {
          "output_type": "stream",
          "name": "stdout",
          "text": [
            "03_powerful_passwords\n",
            "Enter your email: user@example.com\n",
            "Enter your password: password123\n",
            "Login successful!\n"
          ]
        }
      ]
    }
  ]
}